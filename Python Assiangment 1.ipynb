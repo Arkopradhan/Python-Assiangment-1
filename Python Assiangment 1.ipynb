{
 "cells": [
  {
   "cell_type": "markdown",
   "metadata": {},
   "source": [
    "# 1. Write a program which will find all such numbers which are divisible by 7 but are not a multiple of 5, between 2000 and 3200 (both included). The numbers obtained should be printed in a comma-separated sequence on a single line.\n"
   ]
  },
  {
   "cell_type": "code",
   "execution_count": 1,
   "metadata": {},
   "outputs": [
    {
     "name": "stdout",
     "output_type": "stream",
     "text": [
      "2016,2051,2086,2121,2156,2191,2226,2261,2296,2331,2366,2401,2436,2471,2506,2541,2576,2611,2646,2681,2716,2751,2786,2821,2856,2891,2926,2961,2996,3031,3066,3101,3136,3171,"
     ]
    }
   ],
   "source": [
    "for i in range(2000,3201):\n",
    "    if (i%7==0) and (i%5==1):\n",
    "        print(i,end=\",\")"
   ]
  },
  {
   "cell_type": "markdown",
   "metadata": {},
   "source": [
    "# 2. Write a Python program to accept the user's first and last name and then getting them printed in the the reverse order with a space between first name and last name."
   ]
  },
  {
   "cell_type": "code",
   "execution_count": 2,
   "metadata": {},
   "outputs": [
    {
     "name": "stdout",
     "output_type": "stream",
     "text": [
      "First name:Arkopravo\n",
      "Last name:Pradhan\n",
      "Pradhan Arkopravo\n"
     ]
    }
   ],
   "source": [
    "a= str(input(\"First name:\"))\n",
    "b= str(input(\"Last name:\"))\n",
    "c= b+\" \"+ a\n",
    "print(c)"
   ]
  },
  {
   "cell_type": "markdown",
   "metadata": {},
   "source": [
    "# 3. Write a Python program to find the volume of a sphere with diameter 12 cm. Formula: V=4/3 * π * r 3"
   ]
  },
  {
   "cell_type": "code",
   "execution_count": 6,
   "metadata": {},
   "outputs": [
    {
     "name": "stdout",
     "output_type": "stream",
     "text": [
      "904.7786842338603 cm\n"
     ]
    }
   ],
   "source": [
    "import math as m\n",
    "unit=\"cm\"\n",
    "diameter= 12\n",
    "radius= diameter/2\n",
    "volume= (4/3)*(m.pi)*(radius**3)\n",
    "print(\"{} {}\".format(volume,unit))"
   ]
  },
  {
   "cell_type": "code",
   "execution_count": null,
   "metadata": {},
   "outputs": [],
   "source": []
  }
 ],
 "metadata": {
  "kernelspec": {
   "display_name": "Python 3",
   "language": "python",
   "name": "python3"
  },
  "language_info": {
   "codemirror_mode": {
    "name": "ipython",
    "version": 3
   },
   "file_extension": ".py",
   "mimetype": "text/x-python",
   "name": "python",
   "nbconvert_exporter": "python",
   "pygments_lexer": "ipython3",
   "version": "3.8.3"
  }
 },
 "nbformat": 4,
 "nbformat_minor": 4
}
